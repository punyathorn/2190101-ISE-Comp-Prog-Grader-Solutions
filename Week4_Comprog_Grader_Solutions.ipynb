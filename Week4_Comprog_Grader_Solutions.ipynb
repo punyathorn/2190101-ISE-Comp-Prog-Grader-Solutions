{
  "nbformat": 4,
  "nbformat_minor": 0,
  "metadata": {
    "colab": {
      "provenance": [],
      "gpuType": "T4",
      "authorship_tag": "ABX9TyNywAsXf1WJ9wOWu0XPzNYl"
    },
    "kernelspec": {
      "name": "python3",
      "display_name": "Python 3"
    },
    "language_info": {
      "name": "python"
    },
    "accelerator": "GPU"
  },
  "cells": [
    {
      "cell_type": "markdown",
      "source": [
        "#04_Loop_◇◇_BirthdayParadox"
      ],
      "metadata": {
        "id": "nLekuxy_-Y8q"
      }
    },
    {
      "cell_type": "code",
      "execution_count": null,
      "metadata": {
        "colab": {
          "base_uri": "https://localhost:8080/"
        },
        "id": "rccB0pY3-UdX",
        "outputId": "0dff8a6f-b693-4155-a15c-3f703e083e29"
      },
      "outputs": [
        {
          "output_type": "stream",
          "name": "stdout",
          "text": [
            "0.7\n",
            "30\n"
          ]
        }
      ],
      "source": [
        "p = float(input())\n",
        "k = 1\n",
        "t = 1\n",
        "t = (t*(365-(k-1)))/(365)\n",
        "while True:\n",
        "  t = (t*(365-(k-1)))/(365)\n",
        "  if (1-t) >= p:\n",
        "    break\n",
        "  k+=1\n",
        "print(k)"
      ]
    },
    {
      "cell_type": "markdown",
      "source": [
        "#04_Loop_◇◇_Partition"
      ],
      "metadata": {
        "id": "vGOZ-odRBKea"
      }
    },
    {
      "cell_type": "code",
      "source": [
        "d = [int(e) for e in input().split()]\n",
        "p = d[-1]\n",
        "i = -1\n",
        "j = 0\n",
        "n = len(d)\n",
        "while j < (n-1):\n",
        "  if d[j] <= p:\n",
        "    i+=1\n",
        "    d[i],d[j] = d[j],d[i]\n",
        "  j+=1\n",
        "d[i+1],d[-1] = d[-1],d[i+1]\n",
        "print(d)"
      ],
      "metadata": {
        "colab": {
          "base_uri": "https://localhost:8080/"
        },
        "id": "6ZKH9VJIBMNS",
        "outputId": "22b66c58-4f31-4ac3-e2f4-53843268832f"
      },
      "execution_count": null,
      "outputs": [
        {
          "output_type": "stream",
          "name": "stdout",
          "text": [
            "9 2 7 1 6 8 4 5\n",
            "[2, 1, 4, 5, 6, 8, 7, 9]\n"
          ]
        }
      ]
    },
    {
      "cell_type": "markdown",
      "source": [
        "#04_Loop_★_Average"
      ],
      "metadata": {
        "id": "SbSYX9rCC55D"
      }
    },
    {
      "cell_type": "markdown",
      "source": [],
      "metadata": {
        "id": "xJou80MYFCqz"
      }
    },
    {
      "cell_type": "code",
      "source": [
        "sum = 0\n",
        "i = 0\n",
        "while True:\n",
        "  a = input()\n",
        "  if a == \"q\":\n",
        "    break\n",
        "  else:\n",
        "    sum += float(a)\n",
        "  i+=1\n",
        "if sum == 0:\n",
        "  print(\"No Data\")\n",
        "else:\n",
        "  print(round(sum/i,2))"
      ],
      "metadata": {
        "colab": {
          "base_uri": "https://localhost:8080/"
        },
        "id": "qxLLYJSQBrni",
        "outputId": "06412e26-a8f6-4279-d466-104c71539b71"
      },
      "execution_count": null,
      "outputs": [
        {
          "output_type": "stream",
          "name": "stdout",
          "text": [
            "39.59\n",
            "9.89\n",
            "42.09\n",
            "18.44\n",
            "41.18\n",
            "24.95\n",
            "1.55\n",
            "q\n",
            "25.38\n",
            "177.69\n"
          ]
        }
      ]
    },
    {
      "cell_type": "markdown",
      "source": [
        "#04_Loop_★_Bisection_Log10"
      ],
      "metadata": {
        "id": "civUEMvJ_4rZ"
      }
    },
    {
      "cell_type": "code",
      "source": [
        "a = float(input())\n",
        "L = 0\n",
        "U = a\n",
        "epsilon = 1e-10*a\n",
        "x = (U+L)/2\n",
        "while abs(10**x - a) > epsilon:\n",
        "  if 10**x > a:\n",
        "    U = x\n",
        "  else:\n",
        "    L = x\n",
        "  x = (L+U)/2\n",
        "\n",
        "print(round(x,6))"
      ],
      "metadata": {
        "colab": {
          "base_uri": "https://localhost:8080/"
        },
        "id": "CkA4gz4lDVAi",
        "outputId": "17a9f909-53b6-4e06-e7ff-2656936375c8"
      },
      "execution_count": null,
      "outputs": [
        {
          "output_type": "stream",
          "name": "stdout",
          "text": [
            "500.0\n",
            "2.69897\n"
          ]
        }
      ]
    },
    {
      "cell_type": "markdown",
      "source": [
        "#04_Loop_★_MCQ"
      ],
      "metadata": {
        "id": "Fqx4g5ke5NyX"
      }
    },
    {
      "cell_type": "code",
      "source": [
        "correct = input()\n",
        "answer = input()\n",
        "score = 0\n",
        "if len(correct) != len(answer):\n",
        "  print(\"Incomplete answer\")\n",
        "else:\n",
        "  for i in range(len(correct)):\n",
        "    if correct[i] == answer[i]:\n",
        "      score+=1\n",
        "  print(score)"
      ],
      "metadata": {
        "id": "9GOKvDcFESEz",
        "colab": {
          "base_uri": "https://localhost:8080/"
        },
        "outputId": "600ef4c8-7bfd-422c-86cc-bee4098f2ba8"
      },
      "execution_count": null,
      "outputs": [
        {
          "output_type": "stream",
          "name": "stdout",
          "text": [
            "AABBCCDDEE\n",
            "ABA BC CED\n",
            "3\n"
          ]
        }
      ]
    },
    {
      "cell_type": "markdown",
      "source": [
        "#04_Loop_★_Parentheses"
      ],
      "metadata": {
        "id": "ySJ6xpRk8MDZ"
      }
    },
    {
      "cell_type": "code",
      "source": [
        "text = input()\n",
        "output = ''\n",
        "for i in range(len(text)):\n",
        "  if text[i] == '(':\n",
        "    output+='['\n",
        "  elif text[i] == ')':\n",
        "    output+=']'\n",
        "  elif text[i] == '[':\n",
        "    output+='('\n",
        "  elif text[i] == ']':\n",
        "    output+=')'\n",
        "  else:\n",
        "    output+=text[i]\n",
        "print(output)"
      ],
      "metadata": {
        "colab": {
          "base_uri": "https://localhost:8080/"
        },
        "id": "7HOvyXa46jhH",
        "outputId": "0b02aa9d-3021-4550-a4ad-f197d3b9d281"
      },
      "execution_count": null,
      "outputs": [
        {
          "output_type": "stream",
          "name": "stdout",
          "text": [
            "[[a + (b + [c / d] – e) + f] + 4]\n",
            "((a + [b + (c / d) – e] + f) + 4)\n"
          ]
        }
      ]
    },
    {
      "cell_type": "markdown",
      "source": [
        "#04_Loop_★_CountWord"
      ],
      "metadata": {
        "id": "JXKxMe3481jo"
      }
    },
    {
      "cell_type": "code",
      "source": [
        "keyword = input()\n",
        "sentence = input()\n",
        "cleaned = ''\n",
        "occur = 0\n",
        "for i in sentence:\n",
        "  if 'a' <= i <= 'z' or 'A' <= i <= 'Z':\n",
        "    cleaned += i\n",
        "  else:\n",
        "    cleaned += ' '\n",
        "sen = cleaned.split()\n",
        "for word in sen:\n",
        "  if keyword == word:\n",
        "    occur+= 1\n",
        "print(occur)"
      ],
      "metadata": {
        "colab": {
          "base_uri": "https://localhost:8080/"
        },
        "id": "ibSYhx8K8hCi",
        "outputId": "01ae82e4-1c9b-4754-a380-4cb4d9b0a233"
      },
      "execution_count": null,
      "outputs": [
        {
          "output_type": "stream",
          "name": "stdout",
          "text": [
            "ABC\n",
            "(\"ABC aABC AABC ABCAB CABC d ABC k abc ABC\" kjdk abc asd 'ABC ajdsABCkjas  ABC' ABC abc ABC ABC ABC ABCABC...ABC\n",
            "10\n",
            "  ABC aABC AABC ABCAB CABC d ABC k abc ABC  kjdk abc asd  ABC ajdsABCkjas  ABC  ABC abc ABC ABC ABC ABCABC   ABC\n"
          ]
        }
      ]
    },
    {
      "cell_type": "markdown",
      "source": [
        "#04_Loop_★_PrintTriangle"
      ],
      "metadata": {
        "id": "WdUQ_6AmAFQ2"
      }
    },
    {
      "cell_type": "code",
      "source": [
        "h = int(input())\n",
        "for i in range(1,h+1):\n",
        "  for j in range(1, 2*h):\n",
        "    if j == h-i+1 or j == h+i-1 or i == h:\n",
        "      print('*',end='')\n",
        "    else:\n",
        "        print(' ',end='')\n",
        "  print()"
      ],
      "metadata": {
        "colab": {
          "base_uri": "https://localhost:8080/"
        },
        "id": "sTjpF7jj-EVu",
        "outputId": "d1b86d5b-3699-4e95-ca6f-f6b16a8b2b8c"
      },
      "execution_count": null,
      "outputs": [
        {
          "output_type": "stream",
          "name": "stdout",
          "text": [
            "3\n",
            "  *  \n",
            " * * \n",
            "*****\n"
          ]
        }
      ]
    },
    {
      "cell_type": "markdown",
      "source": [
        "#04_Loop_★★_Bisection_Log10_2"
      ],
      "metadata": {
        "id": "bz9GZLinJpcy"
      }
    },
    {
      "cell_type": "code",
      "source": [
        "a = float(input())\n",
        "L = 0\n",
        "U = 0\n",
        "b = a\n",
        "x = (L+U)/2\n",
        "\n",
        "while (b) > 0:\n",
        "  U += 1\n",
        "  b = b//10\n",
        "\n",
        "print(U)\n",
        "while abs(10**x - a) > 10**(-10)*max(a,x):\n",
        "  if 10**x > a:\n",
        "    U = x\n",
        "  else:\n",
        "    L = x\n",
        "  x = (L+U)/2\n",
        "\n",
        "print(round(x,6))"
      ],
      "metadata": {
        "colab": {
          "base_uri": "https://localhost:8080/"
        },
        "id": "svFsinbhIyPm",
        "outputId": "268c7f79-aec1-44ac-991f-573a5c1a6c56"
      },
      "execution_count": null,
      "outputs": [
        {
          "output_type": "stream",
          "name": "stdout",
          "text": [
            "123456\n",
            "6\n",
            "5.091512\n"
          ]
        }
      ]
    },
    {
      "cell_type": "markdown",
      "source": [
        "#04_Loop_★★_RLE"
      ],
      "metadata": {
        "id": "IfUhVaaqmL_s"
      }
    },
    {
      "cell_type": "code",
      "source": [
        "text = input()\n",
        "L = ['A','B','C','D','E','F','G','H','I','J','K','L','M','N','O','P','Q','R','S','T','U','V','W','X','Y','Z']\n",
        "count = 0\n",
        "output = ''\n",
        "for i in range(len(text)):\n",
        "  for j in range(len(L)):\n",
        "    if text[i] == L[j]:\n",
        "      count+=1\n",
        "      if i+1 <= len(text)-1:\n",
        "        if text[i] != text[i+1] and count != 0:\n",
        "          output += text[i]\n",
        "          output += ' '\n",
        "          output += str(count)\n",
        "          output += ' '\n",
        "          count = 0\n",
        "      elif count != 0:\n",
        "        output += text[i]\n",
        "        output += ' '\n",
        "        output += str(count)\n",
        "        count = 0\n",
        "print(output)"
      ],
      "metadata": {
        "id": "i1GLzqijErHM",
        "colab": {
          "base_uri": "https://localhost:8080/"
        },
        "outputId": "0c151b2c-67dd-48fb-cbaf-616e98759e90"
      },
      "execution_count": null,
      "outputs": [
        {
          "output_type": "stream",
          "name": "stdout",
          "text": [
            "AABBAA\n",
            "A 2 B 2 A 2\n"
          ]
        }
      ]
    },
    {
      "cell_type": "markdown",
      "source": [
        "#04_Loop_★★_ZigZag_1"
      ],
      "metadata": {
        "id": "y2AD1wqls95Z"
      }
    },
    {
      "cell_type": "code",
      "source": [
        "num = int(input())\n",
        "set_1 = ''\n",
        "set_2 = ''\n",
        "for i in range(num):\n",
        "  a = input().split()\n",
        "  if i != num - 1:\n",
        "    set_1 += a[0] + ','\n",
        "    set_2 += a[1] + ','\n",
        "  else:\n",
        "    set_1 += a[0]\n",
        "    set_2 += a[1]\n",
        "\n",
        "set_1 = set_1.split(',')\n",
        "set_2 = set_2.split(',')\n",
        "\n",
        "for n in range(len(set_1)):\n",
        "  set_1[n] = int(set_1[n])\n",
        "  set_2[n] = int(set_2[n])\n",
        "\n",
        "mode = input()\n",
        "if mode == \"Zig-Zag\":\n",
        "  min = set_1[0]\n",
        "  max = set_2[0]\n",
        "  for i in range(len(set_1)):\n",
        "    if i%2 == 0:\n",
        "      if set_1[i] < min:\n",
        "        min = set_1[i]\n",
        "      if set_2[i] > max:\n",
        "        max = set_2[i]\n",
        "    else:\n",
        "      if set_2[i] < min:\n",
        "        min = set_2[i]\n",
        "      if set_1[i] > max:\n",
        "        max = set_1[i]\n",
        "elif mode == \"Zag-Zig\":\n",
        "  min = set_2[0]\n",
        "  max = set_1[0]\n",
        "  for i in range(len(set_1)):\n",
        "    if i%2 == 0:\n",
        "      if set_2[i] < min:\n",
        "        min = set_2[i]\n",
        "      if set_1[i] > max:\n",
        "        max = set_1[i]\n",
        "    else:\n",
        "      if set_1[i] < min:\n",
        "        min = set_1[i]\n",
        "      if set_2[i] > max:\n",
        "        max = set_2[i]\n",
        "\n",
        "print(min, max)"
      ],
      "metadata": {
        "colab": {
          "base_uri": "https://localhost:8080/"
        },
        "id": "w_PIrBHRmWoY",
        "outputId": "6cde3308-cd44-4aa2-eb96-8c4675056632"
      },
      "execution_count": null,
      "outputs": [
        {
          "output_type": "stream",
          "name": "stdout",
          "text": [
            "3\n",
            "-10 10\n",
            "20 -20\n",
            "-30 30\n",
            "Zag-Zig\n",
            "10 -10\n"
          ]
        }
      ]
    },
    {
      "cell_type": "markdown",
      "source": [
        "\n",
        "04_Loop_★★_Max_2ndMax"
      ],
      "metadata": {
        "id": "ldXvb4hPy2TW"
      }
    },
    {
      "cell_type": "code",
      "source": [
        "exec(input().strip()) # your first line must be this command. Grader Error some how\n",
        "n = int(input())\n",
        "s = ''\n",
        "ss = ''\n",
        "for i in range(n):\n",
        "  a = int(input())\n",
        "  if i != n - 1:\n",
        "    s += str(a) + \",\"\n",
        "    ss += str(a) + \",\"\n",
        "  else:\n",
        "    s += str(a)\n",
        "    ss += str(a)\n",
        "\n",
        "s = s.split(',')\n",
        "for i in range(len(s)):\n",
        "  s[i] = int(s[i])\n",
        "\n",
        "m = s[0]\n",
        "for i in range(len(s)):\n",
        "  if s[i] > m:\n",
        "    m = s[i]\n",
        "ss = ss.replace(str(m)+\",\",'',1)\n",
        "ss = ss.split(',')\n",
        "for i in range(len(ss)):\n",
        "  ss[i] = int(ss[i])\n",
        "sm = ss[0]\n",
        "for i in range(len(ss)):\n",
        "  if ss[i] > sm:\n",
        "    sm = ss[i]\n",
        "\n",
        "print(m, sm)"
      ],
      "metadata": {
        "colab": {
          "base_uri": "https://localhost:8080/"
        },
        "id": "_h0Wr8dquKrG",
        "outputId": "b09155ac-a501-41b6-ac1e-5af98d305dbe"
      },
      "execution_count": 3,
      "outputs": [
        {
          "output_type": "stream",
          "name": "stdout",
          "text": [
            "None\n",
            "6\n",
            "11\n",
            "11\n",
            "22\n",
            "22\n",
            "33\n",
            "33\n",
            "33 33\n"
          ]
        }
      ]
    },
    {
      "cell_type": "markdown",
      "source": [
        "#04_Loop_★★★_ZigZag_2"
      ],
      "metadata": {
        "id": "J8gxymHE9pWN"
      }
    },
    {
      "cell_type": "code",
      "source": [
        "set_1 = ''\n",
        "set_2 = ''\n",
        "mode = ''\n",
        "while True:\n",
        "  a = input()\n",
        "  if a == \"Zig-Zag\" or a == \"Zag-Zig\":\n",
        "    mode = a\n",
        "    break\n",
        "  a = a.split()\n",
        "  set_1 += a[0] + ','\n",
        "  set_2 += a[1] + ','\n",
        "\n",
        "set_1 = set_1.split(',')\n",
        "set_2 = set_2.split(',')\n",
        "\n",
        "for n in range(len(set_1)):\n",
        "  if n != len(set_1)-1:\n",
        "    set_1[n] = int(set_1[n])\n",
        "    set_2[n] = int(set_2[n])\n",
        "\n",
        "if mode == \"Zig-Zag\":\n",
        "  min = set_1[0]\n",
        "  max = set_2[0]\n",
        "  for i in range(len(set_1)):\n",
        "    if i != len(set_1)-1:\n",
        "      if i%2 == 0:\n",
        "        if set_1[i] < min:\n",
        "          min = set_1[i]\n",
        "        if set_2[i] > max:\n",
        "          max = set_2[i]\n",
        "      else:\n",
        "        if set_2[i] < min:\n",
        "          min = set_2[i]\n",
        "        if set_1[i] > max:\n",
        "          max = set_1[i]\n",
        "elif mode == \"Zag-Zig\":\n",
        "  min = set_2[0]\n",
        "  max = set_1[0]\n",
        "  for i in range(len(set_1)):\n",
        "    if i != len(set_1)-1:\n",
        "      if i%2 == 0:\n",
        "        if set_2[i] < min:\n",
        "          min = set_2[i]\n",
        "        if set_1[i] > max:\n",
        "          max = set_1[i]\n",
        "      else:\n",
        "        if set_1[i] < min:\n",
        "          min = set_1[i]\n",
        "        if set_2[i] > max:\n",
        "          max = set_2[i]\n",
        "\n",
        "print(min, max)"
      ],
      "metadata": {
        "colab": {
          "base_uri": "https://localhost:8080/"
        },
        "id": "eEB3UXpM1sSg",
        "outputId": "e536fcaa-bb4b-45a9-8b0d-e63d5a2933b9"
      },
      "execution_count": 1,
      "outputs": [
        {
          "output_type": "stream",
          "name": "stdout",
          "text": [
            "49 -70\n",
            "79 13\n",
            "-47 -84\n",
            "47 -91\n",
            "-7 39\n",
            "58 -30\n",
            "67 -42\n",
            "-70 50\n",
            "1 92\n",
            "-52 -51\n",
            "Zag-Zig\n",
            "-84 67\n"
          ]
        }
      ]
    }
  ]
}